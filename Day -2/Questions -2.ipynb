{
  "nbformat": 4,
  "nbformat_minor": 0,
  "metadata": {
    "colab": {
      "name": "Solutions.ipynb",
      "provenance": [],
      "collapsed_sections": []
    },
    "kernelspec": {
      "name": "python3",
      "display_name": "Python 3"
    },
    "language_info": {
      "name": "python"
    }
  },
  "cells": [
    {
      "cell_type": "markdown",
      "metadata": {
        "id": "8-wTM6Ht5w4w"
      },
      "source": [
        "# Question-1: "
      ]
    },
    {
      "cell_type": "markdown",
      "metadata": {
        "id": "N_LBE4Mq6Pk9"
      },
      "source": [
        "Find the sum of array elements (Array Traversal, Basic operations)\n",
        "\n"
      ]
    },
    {
      "cell_type": "markdown",
      "metadata": {
        "id": "lJWCp1Ua7F_w"
      },
      "source": [
        "# Question-2: "
      ]
    },
    {
      "cell_type": "markdown",
      "metadata": {
        "id": "qOFiFCxl7Czu"
      },
      "source": [
        "Find the maximum and minimum element in an array. (Traversal, Basic operations)"
      ]
    },
    {
      "cell_type": "markdown",
      "metadata": {
        "id": "AeMrxszV7JoQ"
      },
      "source": [
        "# Question-3: "
      ]
    },
    {
      "cell_type": "markdown",
      "metadata": {
        "id": "zkMcp5v17SNp"
      },
      "source": [
        "Ishaan Loves Chocolates\n",
        "\n",
        "https://practice.geeksforgeeks.org/problems/ishaan-loves-chocolates2156/1"
      ]
    },
    {
      "cell_type": "markdown",
      "metadata": {
        "id": "aKqZDDEoKa8c"
      },
      "source": [
        "# Question-4:"
      ]
    },
    {
      "cell_type": "markdown",
      "metadata": {
        "id": "Keg72i9VKZps"
      },
      "source": [
        "Reverse a String\n",
        "\n",
        "https://practice.geeksforgeeks.org/problems/reverse-a-string/1#"
      ]
    }
  ]
}