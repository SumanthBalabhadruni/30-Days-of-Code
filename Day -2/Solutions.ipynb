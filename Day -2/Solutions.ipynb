{
  "nbformat": 4,
  "nbformat_minor": 0,
  "metadata": {
    "colab": {
      "name": "Solutions.ipynb",
      "provenance": [],
      "collapsed_sections": []
    },
    "kernelspec": {
      "name": "python3",
      "display_name": "Python 3"
    },
    "language_info": {
      "name": "python"
    }
  },
  "cells": [
    {
      "cell_type": "markdown",
      "metadata": {
        "id": "8-wTM6Ht5w4w"
      },
      "source": [
        "# Question-1: "
      ]
    },
    {
      "cell_type": "markdown",
      "metadata": {
        "id": "N_LBE4Mq6Pk9"
      },
      "source": [
        "Find the sum of array elements (Array Traversal, Basic operations)\n",
        "\n"
      ]
    },
    {
      "cell_type": "code",
      "metadata": {
        "colab": {
          "base_uri": "https://localhost:8080/",
          "height": 0
        },
        "id": "xAw5nem4QXbn",
        "outputId": "26481424-8394-4bf5-e067-732cefbaf91c"
      },
      "source": [
        "arr=list(map(int,input().strip().split()))\n",
        "summ=0\n",
        "for i in range(len(arr)):\n",
        "  summ=summ+arr[i]\n",
        "print(summ)\n"
      ],
      "execution_count": 13,
      "outputs": [
        {
          "output_type": "stream",
          "text": [
            "1 2 3 4 5 6\n",
            "21\n"
          ],
          "name": "stdout"
        }
      ]
    },
    {
      "cell_type": "markdown",
      "metadata": {
        "id": "lJWCp1Ua7F_w"
      },
      "source": [
        "# Question-2: "
      ]
    },
    {
      "cell_type": "markdown",
      "metadata": {
        "id": "qOFiFCxl7Czu"
      },
      "source": [
        "Find the maximum and minimum element in an array. (Traversal, Basic operations)"
      ]
    },
    {
      "cell_type": "code",
      "metadata": {
        "colab": {
          "base_uri": "https://localhost:8080/",
          "height": 0
        },
        "id": "Hre7uDdgVnpT",
        "outputId": "9cc69dfc-b4ba-4ae7-bde8-bad3ed4d57d0"
      },
      "source": [
        "arr=list(map(int, input().strip().split()))\n",
        "maxx=-1000000000\n",
        "minn=10000000000\n",
        "for i in range(len(arr)):\n",
        "  if arr[i]>maxx:\n",
        "    maxx=arr[i]\n",
        "  elif minn > maxx:\n",
        "    minn=maxx\n",
        "  if minn>arr[i]:\n",
        "    minn=arr[i]\n",
        "print(maxx, minn)"
      ],
      "execution_count": 38,
      "outputs": [
        {
          "output_type": "stream",
          "text": [
            "4 5 3 2 1 9 8 7\n",
            "9 1\n"
          ],
          "name": "stdout"
        }
      ]
    },
    {
      "cell_type": "markdown",
      "metadata": {
        "id": "AeMrxszV7JoQ"
      },
      "source": [
        "# Question-3: "
      ]
    },
    {
      "cell_type": "markdown",
      "metadata": {
        "id": "zkMcp5v17SNp"
      },
      "source": [
        "https://practice.geeksforgeeks.org/problems/ishaan-loves-chocolates2156/1"
      ]
    },
    {
      "cell_type": "code",
      "metadata": {
        "colab": {
          "base_uri": "https://localhost:8080/",
          "height": 0
        },
        "id": "CcuEs5yVhv7L",
        "outputId": "8cecb52c-cd8c-4804-a13b-6490b81f691d"
      },
      "source": [
        "def chocolates (arr, n) : \n",
        "    return min(arr)\n",
        "\n",
        "for i in range(0,int(input())):\n",
        "  arr= (list(map(int,input().strip().split())))\n",
        "  ans=chocolates(arr,n)\n",
        "  print(ans)"
      ],
      "execution_count": 8,
      "outputs": [
        {
          "output_type": "stream",
          "text": [
            "2\n",
            "5 3 1 6 9 \n",
            "1\n",
            "5 9 2 6\n",
            "2\n"
          ],
          "name": "stdout"
        }
      ]
    },
    {
      "cell_type": "markdown",
      "metadata": {
        "id": "aKqZDDEoKa8c"
      },
      "source": [
        "# Question-4:"
      ]
    },
    {
      "cell_type": "markdown",
      "metadata": {
        "id": "Keg72i9VKZps"
      },
      "source": [
        "https://practice.geeksforgeeks.org/problems/reverse-a-string/1#"
      ]
    },
    {
      "cell_type": "code",
      "metadata": {
        "colab": {
          "base_uri": "https://localhost:8080/",
          "height": 0
        },
        "id": "ViGtQbkKk4I8",
        "outputId": "3a528188-8b9c-4c5f-ce72-e88dbd9aadaf"
      },
      "source": [
        "def reverseWord(s):\n",
        "    s1=''\n",
        "    for i in range(len(s)-1,-1,-1):\n",
        "        s1=s1+s[i]\n",
        "    return s1\n",
        "\n",
        "if __name__=='__main__':\n",
        "  t = int(input())\n",
        "  while(t>0):\n",
        "    s = input()\n",
        "    print(reverseWord(s))\n",
        "    t = t-1"
      ],
      "execution_count": 12,
      "outputs": [
        {
          "output_type": "stream",
          "text": [
            "1\n",
            "GeekS\n",
            "SkeeG\n"
          ],
          "name": "stdout"
        }
      ]
    }
  ]
}