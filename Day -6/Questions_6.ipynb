{
  "nbformat": 4,
  "nbformat_minor": 0,
  "metadata": {
    "colab": {
      "name": "Questions-6.ipynb",
      "provenance": [],
      "collapsed_sections": []
    },
    "kernelspec": {
      "name": "python3",
      "display_name": "Python 3"
    },
    "language_info": {
      "name": "python"
    }
  },
  "cells": [
    {
      "cell_type": "markdown",
      "metadata": {
        "id": "8-wTM6Ht5w4w"
      },
      "source": [
        "# Question-1: "
      ]
    },
    {
      "cell_type": "markdown",
      "metadata": {
        "id": "Iho_0c6uRpKr"
      },
      "source": [
        "Write a function to check whether the number is prime or not. Now using this function, make another function that prints the prime numbers between two numbers\n",
        "\n",
        "\n"
      ]
    },
    {
      "cell_type": "markdown",
      "metadata": {
        "id": "lJWCp1Ua7F_w"
      },
      "source": [
        "# Question-2: "
      ]
    },
    {
      "cell_type": "markdown",
      "metadata": {
        "id": "qOFiFCxl7Czu"
      },
      "source": [
        "Write a function to calculate the factorial of a number. Now using this function, make another function that calculates the value of nCr . Where nCr = n! / ((n-r)! * r!)\n"
      ]
    }
  ]
}