{
  "nbformat": 4,
  "nbformat_minor": 0,
  "metadata": {
    "colab": {
      "name": "Questions-5.ipynb",
      "provenance": [],
      "collapsed_sections": []
    },
    "kernelspec": {
      "name": "python3",
      "display_name": "Python 3"
    },
    "language_info": {
      "name": "python"
    }
  },
  "cells": [
    {
      "cell_type": "markdown",
      "metadata": {
        "id": "8-wTM6Ht5w4w"
      },
      "source": [
        "# Question-1: "
      ]
    },
    {
      "cell_type": "markdown",
      "metadata": {
        "id": "Iho_0c6uRpKr"
      },
      "source": [
        "Write a function to check whether the number is prime or not. Now using this function, make another function that prints the prime numbers between two numbers\n",
        "\n",
        "\n"
      ]
    },
    {
      "cell_type": "code",
      "metadata": {
        "id": "oG8WDwj2LMOo",
        "colab": {
          "base_uri": "https://localhost:8080/"
        },
        "outputId": "4dd8194f-4634-40a5-eda8-e4289a6ab28c"
      },
      "source": [
        "def isprime(a):\n",
        "  i=2\n",
        "  count=0\n",
        "  while(i<int(a/2)):\n",
        "     if a%i==0:\n",
        "       return       \n",
        "     else:\n",
        "       i+=1\n",
        "  return a\n",
        "def prime(a,b):\n",
        "  k=[]\n",
        "  for i in range(a,b+1):\n",
        "    if (isprime(i))!=None:\n",
        "      k.append(isprime(i))\n",
        "  return k\n",
        "k=prime(10,17)\n",
        "print(k)"
      ],
      "execution_count": 20,
      "outputs": [
        {
          "output_type": "stream",
          "text": [
            "[11, 13, 17]\n"
          ],
          "name": "stdout"
        }
      ]
    },
    {
      "cell_type": "markdown",
      "metadata": {
        "id": "lJWCp1Ua7F_w"
      },
      "source": [
        "# Question-2: "
      ]
    },
    {
      "cell_type": "markdown",
      "metadata": {
        "id": "qOFiFCxl7Czu"
      },
      "source": [
        "Write a function to calculate the factorial of a number. Now using this function, make another function that calculates the value of nCr . Where = n! / ((n-r)! * r!)\n"
      ]
    },
    {
      "cell_type": "code",
      "metadata": {
        "id": "4SGx39qYrOnW",
        "colab": {
          "base_uri": "https://localhost:8080/"
        },
        "outputId": "3d2529ce-22d4-4c51-ea40-7869d5b9d776"
      },
      "source": [
        "def fact(n):\n",
        "  k=1\n",
        "  for i in range(1,n+1):\n",
        "    k=k*i\n",
        "  return k\n",
        "def ncr(n,r):\n",
        "  return (fact(n)/(fact(r)*fact(n-r)))\n",
        "k=ncr(10,3)\n",
        "print(k)\n",
        "     \n",
        "\n"
      ],
      "execution_count": 24,
      "outputs": [
        {
          "output_type": "stream",
          "text": [
            "120.0\n"
          ],
          "name": "stdout"
        }
      ]
    }
  ]
}