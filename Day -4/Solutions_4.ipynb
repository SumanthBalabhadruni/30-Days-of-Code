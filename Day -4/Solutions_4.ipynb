{
  "nbformat": 4,
  "nbformat_minor": 0,
  "metadata": {
    "colab": {
      "name": "Questions-4.ipynb",
      "provenance": [],
      "collapsed_sections": []
    },
    "kernelspec": {
      "name": "python3",
      "display_name": "Python 3"
    },
    "language_info": {
      "name": "python"
    }
  },
  "cells": [
    {
      "cell_type": "markdown",
      "metadata": {
        "id": "8-wTM6Ht5w4w"
      },
      "source": [
        "# Question-1: "
      ]
    },
    {
      "cell_type": "markdown",
      "metadata": {
        "id": "N_LBE4Mq6Pk9"
      },
      "source": [
        "### Leaders in an array \n",
        "\n",
        "[link text](https://practice.geeksforgeeks.org/problems/leaders-in-an-array-1587115620/1)"
      ]
    },
    {
      "cell_type": "markdown",
      "metadata": {
        "id": "2fIGYrDU50XP"
      },
      "source": [
        "### Method-1"
      ]
    },
    {
      "cell_type": "code",
      "metadata": {
        "id": "NBOd39a4rOD1"
      },
      "source": [
        "class Solution:\n",
        "    def leaders(self, A, N):\n",
        "        last=A[-1]\n",
        "        new=[]\n",
        "        refer=0\n",
        "        if max(A)==A[-1]:\n",
        "            return [A[-1]]\n",
        "        while(len(A) > 1):\n",
        "            i=A.index(max(A))\n",
        "            new.append(A[i])\n",
        "            neww=[]\n",
        "            for i in range(i+1,len(A)):\n",
        "                neww.append(A[i])\n",
        "            A=[]\n",
        "            A=neww\n",
        "        if last in new:\n",
        "            pass\n",
        "        else:\n",
        "            new.append(last)\n",
        "        return new"
      ],
      "execution_count": 5,
      "outputs": []
    },
    {
      "cell_type": "markdown",
      "metadata": {
        "id": "OXurAi7957pl"
      },
      "source": [
        "### Method-2"
      ]
    },
    {
      "cell_type": "code",
      "metadata": {
        "id": "17uBXsFl5_A_"
      },
      "source": [
        "class Solution:\n",
        "    def leaders(self, A, N):\n",
        "        new=[]\n",
        "        for i in range(len(A)):\n",
        "            b=0\n",
        "            for j in range(i+1,N):\n",
        "                if A[i] < A[j]:\n",
        "                    b=1\n",
        "                    j=N-1\n",
        "            if b==0:\n",
        "                new.append(A[i])\n",
        "        return new"
      ],
      "execution_count": 6,
      "outputs": []
    },
    {
      "cell_type": "markdown",
      "metadata": {
        "id": "l0VA50iV_v8G"
      },
      "source": [
        "### Method-3"
      ]
    },
    {
      "cell_type": "code",
      "metadata": {
        "id": "aUtmF9R-_1gy"
      },
      "source": [
        "class Solution:\n",
        "    def leaders(self, A, N):\n",
        "        last=A[-1]\n",
        "        new=[]\n",
        "        if max(A)==A[-1]:\n",
        "            return [A[-1]]\n",
        "        count=0\n",
        "        while(count<len(A)):\n",
        "            maxx=-1\n",
        "            index=0\n",
        "            for i in range(count+1,len(A)):\n",
        "                if A[i]>maxx:\n",
        "                    maxx=A[i]\n",
        "                    index=i\n",
        "            count=index\n",
        "            new.append(maxx)\n",
        "\n",
        "        return new"
      ],
      "execution_count": null,
      "outputs": []
    },
    {
      "cell_type": "markdown",
      "metadata": {
        "id": "lJWCp1Ua7F_w"
      },
      "source": [
        "# Question-2: "
      ]
    },
    {
      "cell_type": "markdown",
      "metadata": {
        "id": "qOFiFCxl7Czu"
      },
      "source": [
        "### Sort Binary Array\n",
        "\n",
        "[link text](https://practice.geeksforgeeks.org/problems/binary-array-sorting-1587115620/1)"
      ]
    },
    {
      "cell_type": "code",
      "metadata": {
        "id": "4SGx39qYrOnW"
      },
      "source": [
        "class Solution:\n",
        "    \n",
        "    #Function to sort the binary array.\n",
        "    def binSort(self, A, N): \n",
        "        count=0\n",
        "        p=0\n",
        "        for i in range(N):\n",
        "            if A[i]==0:\n",
        "                count+=1\n",
        "                A[p]=0\n",
        "                p+=1\n",
        "        for i in range(count,N):\n",
        "            A[i]=1\n",
        "        return "
      ],
      "execution_count": 7,
      "outputs": []
    },
    {
      "cell_type": "markdown",
      "metadata": {
        "id": "AeMrxszV7JoQ"
      },
      "source": [
        "# Question-3: "
      ]
    },
    {
      "cell_type": "markdown",
      "metadata": {
        "id": "zkMcp5v17SNp"
      },
      "source": [
        "### Find Second Largest Element  \n",
        "\n",
        "[link text](https://practice.geeksforgeeks.org/problems/find-second-largest-element2406/1)"
      ]
    },
    {
      "cell_type": "code",
      "metadata": {
        "id": "MnfzD4YErPh8"
      },
      "source": [
        "class Solution:\n",
        "    def print2largest(self,A,N): \n",
        "        maxx1=-1\n",
        "        maxx2=-10\n",
        "        for i in range(N):\n",
        "            if A[i]>maxx1:\n",
        "                maxx2=maxx1\n",
        "                maxx1=A[i]\n",
        "            if A[i]<maxx1 and A[i]>maxx2:\n",
        "                maxx2=A[i]\n",
        "        return maxx2"
      ],
      "execution_count": null,
      "outputs": []
    }
  ]
}