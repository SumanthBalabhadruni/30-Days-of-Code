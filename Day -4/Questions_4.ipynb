{
  "nbformat": 4,
  "nbformat_minor": 0,
  "metadata": {
    "colab": {
      "name": "Questions-4.ipynb",
      "provenance": [],
      "collapsed_sections": []
    },
    "kernelspec": {
      "name": "python3",
      "display_name": "Python 3"
    },
    "language_info": {
      "name": "python"
    }
  },
  "cells": [
    {
      "cell_type": "markdown",
      "metadata": {
        "id": "8-wTM6Ht5w4w"
      },
      "source": [
        "# Question-1: "
      ]
    },
    {
      "cell_type": "markdown",
      "metadata": {
        "id": "N_LBE4Mq6Pk9"
      },
      "source": [
        "### Leaders in an array \n",
        "\n",
        "[link text](https://practice.geeksforgeeks.org/problems/leaders-in-an-array-1587115620/1)"
      ]
    },
    {
      "cell_type": "code",
      "metadata": {
        "id": "NBOd39a4rOD1"
      },
      "source": [
        ""
      ],
      "execution_count": null,
      "outputs": []
    },
    {
      "cell_type": "markdown",
      "metadata": {
        "id": "lJWCp1Ua7F_w"
      },
      "source": [
        "# Question-2: "
      ]
    },
    {
      "cell_type": "markdown",
      "metadata": {
        "id": "qOFiFCxl7Czu"
      },
      "source": [
        "### Sort Binary Array\n",
        "\n",
        "[link text](https://practice.geeksforgeeks.org/problems/binary-array-sorting-1587115620/1)"
      ]
    },
    {
      "cell_type": "code",
      "metadata": {
        "id": "4SGx39qYrOnW"
      },
      "source": [
        ""
      ],
      "execution_count": null,
      "outputs": []
    },
    {
      "cell_type": "markdown",
      "metadata": {
        "id": "AeMrxszV7JoQ"
      },
      "source": [
        "# Question-3: "
      ]
    },
    {
      "cell_type": "markdown",
      "metadata": {
        "id": "zkMcp5v17SNp"
      },
      "source": [
        "### Find Second Largest Element  \n",
        "\n",
        "[link text](https://practice.geeksforgeeks.org/problems/find-second-largest-element2406/1)"
      ]
    },
    {
      "cell_type": "code",
      "metadata": {
        "id": "MnfzD4YErPh8"
      },
      "source": [
        ""
      ],
      "execution_count": null,
      "outputs": []
    }
  ]
}