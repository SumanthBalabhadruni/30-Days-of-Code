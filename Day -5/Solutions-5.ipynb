{
  "nbformat": 4,
  "nbformat_minor": 0,
  "metadata": {
    "colab": {
      "name": "Questions-5.ipynb",
      "provenance": [],
      "collapsed_sections": []
    },
    "kernelspec": {
      "name": "python3",
      "display_name": "Python 3"
    },
    "language_info": {
      "name": "python"
    }
  },
  "cells": [
    {
      "cell_type": "markdown",
      "metadata": {
        "id": "8-wTM6Ht5w4w"
      },
      "source": [
        "# Question-1: "
      ]
    },
    {
      "cell_type": "markdown",
      "metadata": {
        "id": "N_LBE4Mq6Pk9"
      },
      "source": [
        "Write a function to find out the maximum out of the given three numbers.The function will look something like this\n",
        "\n",
        "\n",
        "![image.png](data:image/png;base64,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)\n"
      ]
    },
    {
      "cell_type": "code",
      "metadata": {
        "id": "oG8WDwj2LMOo",
        "colab": {
          "base_uri": "https://localhost:8080/"
        },
        "outputId": "559110d1-4696-4dcb-97fa-c53cf1b2c2a6"
      },
      "source": [
        "def maximuminthree(a,b,c):\n",
        "  if a>=b and a>=c:\n",
        "    return a\n",
        "  elif b>=c:\n",
        "    return b\n",
        "  else:\n",
        "    return c\n",
        "print(maximuminthree(1,3,2))\n",
        "  "
      ],
      "execution_count": 6,
      "outputs": [
        {
          "output_type": "stream",
          "text": [
            "3\n"
          ],
          "name": "stdout"
        }
      ]
    }
  ]
}