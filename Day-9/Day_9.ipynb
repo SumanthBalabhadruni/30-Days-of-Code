{
  "nbformat": 4,
  "nbformat_minor": 0,
  "metadata": {
    "colab": {
      "name": "Day-9.ipynb",
      "provenance": []
    },
    "kernelspec": {
      "name": "python3",
      "display_name": "Python 3"
    },
    "language_info": {
      "name": "python"
    }
  },
  "cells": [
    {
      "cell_type": "markdown",
      "metadata": {
        "id": "FMj71S5BTCkV"
      },
      "source": [
        "# [Sum of Digits of String After Convert](https://leetcode.com/contest/weekly-contest-251/problems/sum-of-digits-of-string-after-convert/)"
      ]
    },
    {
      "cell_type": "code",
      "metadata": {
        "id": "isGlVISaTAtL"
      },
      "source": [
        "class Solution:\n",
        "    def getLucky(self, s: str, k: int) -> int:\n",
        "        s=list(s)\n",
        "        w=list('abcdefghijklmnopqrstuvwxyz')\n",
        "        for i in range(len(s)):\n",
        "            s[i]=int(str(w.index((s[i]))+1))\n",
        "        s1=''\n",
        "        for i in range(len(s)):\n",
        "            s1=s1 + str(s[i])\n",
        "        def iter(s,k):\n",
        "            for i in range(k):\n",
        "                s=list(s)\n",
        "                for i in range(len(s)):\n",
        "                    s[i]=int(s[i])\n",
        "                s=str(sum(s))\n",
        "            return s\n",
        "        p=iter(s1,k)\n",
        "        return p\n"
      ],
      "execution_count": null,
      "outputs": []
    }
  ]
}