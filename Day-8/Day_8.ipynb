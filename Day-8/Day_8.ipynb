{
  "nbformat": 4,
  "nbformat_minor": 0,
  "metadata": {
    "colab": {
      "name": "Day-8.ipynb",
      "provenance": []
    },
    "kernelspec": {
      "name": "python3",
      "display_name": "Python 3"
    },
    "language_info": {
      "name": "python"
    }
  },
  "cells": [
    {
      "cell_type": "markdown",
      "metadata": {
        "id": "FMj71S5BTCkV"
      },
      "source": [
        "# [Largest Number After Mutating Substring](https://leetcode.com/contest/weekly-contest-251/problems/largest-number-after-mutating-substring/)"
      ]
    },
    {
      "cell_type": "code",
      "metadata": {
        "id": "isGlVISaTAtL"
      },
      "source": [
        "class Solution:\n",
        "    def maximumNumber(self, num: str, change: List[int]) -> str:\n",
        "        num=list(num)\n",
        "        l=0\n",
        "        for i in range(len(num)):\n",
        "            if int(num[i]) < int(change[int(num[i])]):\n",
        "                num[i]=str(change[int(num[i])])\n",
        "                l=1\n",
        "            elif int(num[i]) == int(change[int(num[i])]):\n",
        "                num[i]=str(change[int(num[i])])\n",
        "            else:\n",
        "                if l==1:\n",
        "                    break\n",
        "        s=''\n",
        "        for i in range(len(num)):\n",
        "            s=s + (num[i])\n",
        "        return s"
      ],
      "execution_count": null,
      "outputs": []
    }
  ]
}