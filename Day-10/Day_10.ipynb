{
  "nbformat": 4,
  "nbformat_minor": 0,
  "metadata": {
    "colab": {
      "name": "Day-10.ipynb",
      "provenance": []
    },
    "kernelspec": {
      "name": "python3",
      "display_name": "Python 3"
    },
    "language_info": {
      "name": "python"
    }
  },
  "cells": [
    {
      "cell_type": "markdown",
      "metadata": {
        "id": "FMj71S5BTCkV"
      },
      "source": [
        "# [Time Conversion](https://www.hackerrank.com/challenges/one-month-preparation-kit-time-conversion/problem?h_r=internal-search)"
      ]
    },
    {
      "cell_type": "code",
      "metadata": {
        "id": "lEQObyeUbLun"
      },
      "source": [
        "import math\n",
        "import os\n",
        "import random\n",
        "import re\n",
        "import sys\n",
        "\n",
        "def timeConversion(s):\n",
        "    if 'AM' in s:\n",
        "        if s[0:2]=='12':\n",
        "            s='00' + s[2:-2]\n",
        "        else:\n",
        "            s=s[0:-2]\n",
        "    else:\n",
        "        if s[0:2]!='12':\n",
        "            s=str(int(s[0:2])+12) + s[2:-2]\n",
        "        else:\n",
        "            s=s[0:-2]\n",
        "    return s\n",
        "if __name__ == '__main__':\n",
        "    fptr = open(os.environ['OUTPUT_PATH'], 'w')\n",
        "\n",
        "    s = input()\n",
        "\n",
        "    result = timeConversion(s)\n",
        "\n",
        "    fptr.write(result + '\\n')\n",
        "\n",
        "    fptr.close()"
      ],
      "execution_count": null,
      "outputs": []
    }
  ]
}