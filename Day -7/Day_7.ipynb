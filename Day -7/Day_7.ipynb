{
  "nbformat": 4,
  "nbformat_minor": 0,
  "metadata": {
    "colab": {
      "name": "Day-7.ipynb",
      "provenance": []
    },
    "kernelspec": {
      "name": "python3",
      "display_name": "Python 3"
    },
    "language_info": {
      "name": "python"
    }
  },
  "cells": [
    {
      "cell_type": "markdown",
      "metadata": {
        "id": "FTlMvPXkk2M9"
      },
      "source": [
        "# [**Plus One**](https://practice.geeksforgeeks.org/problems/plus-one/1#)\n",
        "\n",
        "[Plus One](https://practice.geeksforgeeks.org/problems/plus-one/1#)"
      ]
    },
    {
      "cell_type": "code",
      "metadata": {
        "id": "1JmnqAvqk0eM"
      },
      "source": [
        "class Solution:\n",
        "    def increment(self, arr, N):\n",
        "        count=0\n",
        "        while count<N:\n",
        "            if arr[-1-count]!=9:\n",
        "                arr[-1-count]+=1\n",
        "                return arr\n",
        "            elif (-1-count)==(-N):\n",
        "                arr[-1-count]=0\n",
        "                arr.insert(0,1)\n",
        "                return arr\n",
        "            else:\n",
        "                arr[-1-count]=0\n",
        "                count+=1"
      ],
      "execution_count": null,
      "outputs": []
    },
    {
      "cell_type": "markdown",
      "metadata": {
        "id": "EK-b4QqPkcua"
      },
      "source": [
        "# **Binary** **Search**"
      ]
    },
    {
      "cell_type": "code",
      "metadata": {
        "id": "NIDYpXlaV02x"
      },
      "source": [
        "def bs(arr,query):\n",
        "  s,e=0,(len(arr)-1)\n",
        "  while s<=e:\n",
        "    mid=(s+e)//2\n",
        "    if arr[mid]==query:\n",
        "      return mid\n",
        "    elif query<arr[mid]:\n",
        "      e=mid-1\n",
        "    else:\n",
        "      s=mid+1\n",
        "  return -1"
      ],
      "execution_count": null,
      "outputs": []
    },
    {
      "cell_type": "code",
      "metadata": {
        "colab": {
          "base_uri": "https://localhost:8080/"
        },
        "id": "N-VXcQgXUUJA",
        "outputId": "6d96d1b9-05b5-402d-fb16-ade87a9fe667"
      },
      "source": [
        "arr=[1,14,15,16,17,18,19]\n",
        "query=int(input())\n",
        "print(bs(arr,query))\n",
        "new=[]\n",
        "for i in range(query):\n",
        "  new.append(int(input()))\n",
        "print(new)"
      ],
      "execution_count": null,
      "outputs": [
        {
          "output_type": "stream",
          "text": [
            "6\n",
            "-1\n",
            "1\n",
            "2\n",
            "3\n",
            "4\n",
            "5\n",
            "6\n",
            "[1, 2, 3, 4, 5, 6]\n"
          ],
          "name": "stdout"
        }
      ]
    }
  ]
}