{
  "nbformat": 4,
  "nbformat_minor": 0,
  "metadata": {
    "colab": {
      "name": "Questions.ipynb",
      "provenance": [],
      "collapsed_sections": []
    },
    "kernelspec": {
      "name": "python3",
      "display_name": "Python 3"
    },
    "language_info": {
      "name": "python"
    }
  },
  "cells": [
    {
      "cell_type": "markdown",
      "metadata": {
        "id": "8-wTM6Ht5w4w"
      },
      "source": [
        "# Question-1: "
      ]
    },
    {
      "cell_type": "markdown",
      "metadata": {
        "id": "N_LBE4Mq6Pk9"
      },
      "source": [
        "### Rotate the array \n",
        "\n",
        "https://practice.geeksforgeeks.org/problems/rotate-array-by-n-elements/0\n"
      ]
    },
    {
      "cell_type": "markdown",
      "metadata": {
        "id": "lJWCp1Ua7F_w"
      },
      "source": [
        "# Question-2: "
      ]
    },
    {
      "cell_type": "markdown",
      "metadata": {
        "id": "qOFiFCxl7Czu"
      },
      "source": [
        "### Candy Question\n",
        "\n",
        "https://leetcode.com/problems/kids-with-the-greatest-number-of-candies/"
      ]
    },
    {
      "cell_type": "markdown",
      "metadata": {
        "id": "AeMrxszV7JoQ"
      },
      "source": [
        "# Question-3: "
      ]
    },
    {
      "cell_type": "markdown",
      "metadata": {
        "id": "zkMcp5v17SNp"
      },
      "source": [
        "### Sum of 2 numbers (array)  \n",
        "\n",
        "https://practice.geeksforgeeks.org/problems/sum-of-two-numbers-represented-as-arrays3110/1"
      ]
    }
  ]
}