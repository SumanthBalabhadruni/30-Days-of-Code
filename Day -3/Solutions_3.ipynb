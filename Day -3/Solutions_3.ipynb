{
  "nbformat": 4,
  "nbformat_minor": 0,
  "metadata": {
    "colab": {
      "name": "Solutions-3.ipynb",
      "provenance": [],
      "collapsed_sections": []
    },
    "kernelspec": {
      "name": "python3",
      "display_name": "Python 3"
    },
    "language_info": {
      "name": "python"
    }
  },
  "cells": [
    {
      "cell_type": "markdown",
      "metadata": {
        "id": "8-wTM6Ht5w4w"
      },
      "source": [
        "# Question-1: "
      ]
    },
    {
      "cell_type": "markdown",
      "metadata": {
        "id": "N_LBE4Mq6Pk9"
      },
      "source": [
        "###Rotate the array\n",
        "\n",
        "[link text](https://practice.geeksforgeeks.org/problems/rotate-array-by-n-elements/0)"
      ]
    },
    {
      "cell_type": "code",
      "metadata": {
        "colab": {
          "base_uri": "https://localhost:8080/"
        },
        "id": "H8wtL6XUz_Bg",
        "outputId": "d5fc0ecb-6acd-497d-ed17-b8169ff3179f"
      },
      "source": [
        "def shift(arr,d):\n",
        "    new=[]\n",
        "    for i in range(d,len(arr)):\n",
        "        new.append(arr[i])\n",
        "    for i in range(d):\n",
        "        new.append(arr[i])\n",
        "    return new   \n",
        "for i in range(int(input())):\n",
        "    n,d=map(int,input().split())\n",
        "    arr=list(map(int,input().strip().split()))\n",
        "    k=shift(arr,d)\n",
        "    for i in range(len(k)):\n",
        "        print(k[i],end=' ')\n",
        "    print()"
      ],
      "execution_count": null,
      "outputs": [
        {
          "output_type": "stream",
          "text": [
            "2\n",
            "5 2\n",
            "1 2 3 4 5 \n",
            "3 4 5 1 2 \n",
            "10 3\n",
            "2 4 6 8 10 12 14 16 18 20\n",
            "8 10 12 14 16 18 20 2 4 6 \n"
          ],
          "name": "stdout"
        }
      ]
    },
    {
      "cell_type": "markdown",
      "metadata": {
        "id": "lJWCp1Ua7F_w"
      },
      "source": [
        "# Question-2: "
      ]
    },
    {
      "cell_type": "markdown",
      "metadata": {
        "id": "qOFiFCxl7Czu"
      },
      "source": [
        "### Candy Question\n",
        "\n",
        "[link text](https://leetcode.com/problems/kids-with-the-greatest-number-of-candies/)"
      ]
    },
    {
      "cell_type": "code",
      "metadata": {
        "id": "8TSBEgdijEza"
      },
      "source": [
        "class Solution:\n",
        "    def findSum(self,a, b):\n",
        "        l1=len(a)\n",
        "        l2=len(b)\n",
        "        s1,s2=0,0\n",
        "        t1,t2=1,1\n",
        "        if l2>l1:\n",
        "            for i in range(1,l1):\n",
        "                t1=t1*10\n",
        "            t2=t1\n",
        "            for i in range(l1,l2):\n",
        "                t2=t2*10\n",
        "            for i in range(l1):\n",
        "                s1=s1+(a[i]*(t1))\n",
        "                t1=t1//10\n",
        "                s2=s2+(b[i]*(t2))\n",
        "                t2=t2//10    \n",
        "            for i in range(l1,l2):\n",
        "                s2=s2+(b[i]*(t2))\n",
        "                t2=t2//10\n",
        "        else:\n",
        "            for i in range(1,l2):\n",
        "                t2=t2*10\n",
        "            t1=t2\n",
        "            for i in range(l2,l1):\n",
        "                t1=t1*10\n",
        "            for i in range(l2):\n",
        "                s1=s1+(a[i]*(t1))\n",
        "                t1=t1//10\n",
        "                s2=s2+(b[i]*(t2))\n",
        "                t2=t2//10    \n",
        "            for i in range(l2,l1):\n",
        "                s1=s1+(a[i]*(t1))\n",
        "                t1=t1//10\n",
        "        new=[]\n",
        "        s=str(s1+s2)\n",
        "        for i in range(len(s)):\n",
        "            new.append(s[i])\n",
        "        return new\n",
        "#{ \n",
        "#  Driver Code Starts\n",
        "#Initial Template for Python 3\n",
        "if __name__ == '__main__':\n",
        "    tc = int(input())\n",
        "    while tc > 0:\n",
        "        n, m = list(map(int, input().strip().split()))\n",
        "        a = list(map(int, input().strip().split()))\n",
        "        b = list(map(int, input().strip().split()))\n",
        "        ob = Solution()\n",
        "        ans = ob.findSum(a, b)\n",
        "        for i in ans:\n",
        "            print(i, end=\" \")\n",
        "        print()\n",
        "        tc -= 1\n",
        "# } Driver Code Ends"
      ],
      "execution_count": null,
      "outputs": []
    },
    {
      "cell_type": "markdown",
      "metadata": {
        "id": "AeMrxszV7JoQ"
      },
      "source": [
        "# Question-3: "
      ]
    },
    {
      "cell_type": "markdown",
      "metadata": {
        "id": "zkMcp5v17SNp"
      },
      "source": [
        "### Sum of 2 numbers (array)  \n",
        "\n",
        "https://practice.geeksforgeeks.org/problems/sum-of-two-numbers-represented-as-arrays3110/1"
      ]
    },
    {
      "cell_type": "code",
      "metadata": {
        "id": "yrHGYvODjTI6"
      },
      "source": [
        "def shift(arr,d):\n",
        "    new=[]\n",
        "    for i in range(d,len(arr)):\n",
        "        new.append(arr[i])\n",
        "    for i in range(d):\n",
        "        new.append(arr[i])\n",
        "    return new\n",
        "    \n",
        "for i in range(int(input())):\n",
        "    n,d=map(int,input().split())\n",
        "    arr=list(map(int,input().strip().split()))\n",
        "    k=shift(arr,d)\n",
        "    for i in range(len(k)):\n",
        "        print(k[i],end=' ')\n",
        "    print()"
      ],
      "execution_count": null,
      "outputs": []
    }
  ]
}