{
  "nbformat": 4,
  "nbformat_minor": 0,
  "metadata": {
    "colab": {
      "name": "Solutions.ipynb",
      "provenance": [],
      "collapsed_sections": []
    },
    "kernelspec": {
      "name": "python3",
      "display_name": "Python 3"
    },
    "language_info": {
      "name": "python"
    }
  },
  "cells": [
    {
      "cell_type": "markdown",
      "metadata": {
        "id": "8-wTM6Ht5w4w"
      },
      "source": [
        "# Question-1: "
      ]
    },
    {
      "cell_type": "markdown",
      "metadata": {
        "id": "N_LBE4Mq6Pk9"
      },
      "source": [
        "Write a program that reads in an integer denoting the number of days. It prints\n",
        "the number of years, months and days that constitute the input number of days.\n",
        "\n",
        "**Input:** Number of Days\n",
        "\n",
        "**Output:** x years y months z days\n",
        "\n",
        "**Sample Input:** 403\n",
        "\n",
        "**Sample Output:** 1 year 1 month 13 days\n",
        "\n"
      ]
    },
    {
      "cell_type": "markdown",
      "metadata": {
        "id": "hHyHKc7p6rw-"
      },
      "source": [
        "**NOTE:** Assume that all months have 30 days so, all years have 360 days.\n",
        "\n",
        "**HINT:** Use modulus (%) and division (/) operators"
      ]
    },
    {
      "cell_type": "code",
      "metadata": {
        "colab": {
          "base_uri": "https://localhost:8080/",
          "height": 0
        },
        "id": "96iHh3oeA6OE",
        "outputId": "68ee65bf-1f40-418b-d725-15b4ee8b2930"
      },
      "source": [
        "print('Enter the No of Days')\n",
        "k=int(input())\n",
        "x=k//360\n",
        "y=((k%360)//30)\n",
        "z=(((k%360)%30))\n",
        "print('{} year {} month {} days'.format(x,y,z))\n"
      ],
      "execution_count": 10,
      "outputs": [
        {
          "output_type": "stream",
          "text": [
            "Enter the No of Days\n",
            "403\n",
            "1 1 13\n",
            "1 years 1 months 13 days\n"
          ],
          "name": "stdout"
        }
      ]
    },
    {
      "cell_type": "markdown",
      "metadata": {
        "id": "lJWCp1Ua7F_w"
      },
      "source": [
        "# Question-2: "
      ]
    },
    {
      "cell_type": "markdown",
      "metadata": {
        "id": "qOFiFCxl7Czu"
      },
      "source": [
        "Write a program to swap the values of two integer numbers entered by the user,\n",
        "and display the new numbers. Do this with and without using a third variable.\n"
      ]
    },
    {
      "cell_type": "code",
      "metadata": {
        "colab": {
          "base_uri": "https://localhost:8080/",
          "height": 0
        },
        "id": "F4Qov_RmEhZy",
        "outputId": "b8ae55b5-f30f-4c00-871c-51331578c77b"
      },
      "source": [
        "print('enter the two numbers')\n",
        "a=input()\n",
        "b=input()\n",
        "print('Before swaping: a={} and b={}'.format(a,b))\n",
        "a,b=b,a\n",
        "print('After swaping: a={} and b={}'.format(a,b))"
      ],
      "execution_count": 11,
      "outputs": [
        {
          "output_type": "stream",
          "text": [
            "enter the two numbers\n",
            "1\n",
            "5\n",
            "Before swaping: a=1 and b=5\n",
            "After swaping: a=5 and b=1\n"
          ],
          "name": "stdout"
        }
      ]
    },
    {
      "cell_type": "markdown",
      "metadata": {
        "id": "AeMrxszV7JoQ"
      },
      "source": [
        "# Question-3: "
      ]
    },
    {
      "cell_type": "markdown",
      "metadata": {
        "id": "zkMcp5v17SNp"
      },
      "source": [
        "Write a code to take an input integer from the user and print the following pattern\n",
        "as indicated in the sample input and output."
      ]
    },
    {
      "cell_type": "markdown",
      "metadata": {
        "id": "Z5-RZgk17Xe-"
      },
      "source": [
        "**Sample Input 0:** 3\n",
        "\n",
        "**Sample Output 0:**\n",
        "\n",
        "\n"
      ]
    },
    {
      "cell_type": "code",
      "metadata": {
        "id": "qB_PZX0F7TM1"
      },
      "source": [
        "* * *\n",
        "\n",
        "* *\n",
        "\n",
        "*\n"
      ],
      "execution_count": null,
      "outputs": []
    },
    {
      "cell_type": "markdown",
      "metadata": {
        "id": "C15mIkEZ8dU9"
      },
      "source": [
        "\n",
        "**Sample Input 1: 5**\n",
        "\n",
        "**Sample Output 1:**"
      ]
    },
    {
      "cell_type": "code",
      "metadata": {
        "id": "RNQ4nWOu8bvc"
      },
      "source": [
        "* * * * *\n",
        "* * * *\n",
        "* * *\n",
        "* *\n",
        "*"
      ],
      "execution_count": null,
      "outputs": []
    },
    {
      "cell_type": "code",
      "metadata": {
        "colab": {
          "base_uri": "https://localhost:8080/",
          "height": 0
        },
        "id": "yOLWHMZbF3tl",
        "outputId": "6d872c12-e012-43b2-f752-bab2cb73b94b"
      },
      "source": [
        "k=int(input())\n",
        "for i in range(k-1,-1,-1):\n",
        "  s=''\n",
        "  for j in range(i+1):\n",
        "    s=s + '*'\n",
        "  print(s)\n"
      ],
      "execution_count": 18,
      "outputs": [
        {
          "output_type": "stream",
          "text": [
            "5\n",
            "*****\n",
            "****\n",
            "***\n",
            "**\n",
            "*\n"
          ],
          "name": "stdout"
        }
      ]
    },
    {
      "cell_type": "code",
      "metadata": {
        "id": "FtKgM3x3GzA6"
      },
      "source": [
        ""
      ],
      "execution_count": null,
      "outputs": []
    }
  ]
}